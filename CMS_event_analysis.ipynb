{
 "cells": [
  {
   "cell_type": "markdown",
   "metadata": {},
   "source": [
    "# CMS Event Analysis\n",
    "\n",
    "To get started,\n",
    "- You won't hurt anything by experimenting. If you break it, close the tab and open the link again to start over.\n",
    "- Is this your first time with Jupyter and Python? Need a refresher? Try the 5-minute [Intro to Jupyter activity](./Intro_to_Jupyter.ipynb) and come back here."
   ]
  },
  {
   "cell_type": "code",
   "execution_count": null,
   "metadata": {},
   "outputs": [],
   "source": [
    "# imports some software packages we'll use\n",
    "import pandas as pd\n",
    "import numpy as np\n",
    "%matplotlib inline\n",
    "import matplotlib as mpl\n",
    "import matplotlib.pyplot as plt\n",
    "mpl.rcdefaults()"
   ]
  },
  {
   "cell_type": "code",
   "execution_count": null,
   "metadata": {},
   "outputs": [],
   "source": [
    "# a hashtag tells the program \"don't read the rest of the line\"\n",
    "# That way we can write \"comments\" to humans trying to figure out what the code does\n",
    "\n",
    "two_e = pd.read_csv('https://github.com/adamlamee/HEP-data/raw/master/Double_Electron_Run2011A.csv')\n",
    "#two_u = pd.read_csv('https://github.com/adamlamee/HEP-data/raw/master/Double_Muon_Run2011A.csv')\n",
    "#one_u = pd.read_csv('https://github.com/adamlamee/HEP-data/raw/master/Single_Muon_Run2011A.csv')\n",
    "#one_e = pd.read_csv('https://github.com/adamlamee/HEP-data/raw/master/Single_Electron_Run2011A.csv')\n",
    "\n",
    "data = two_e"
   ]
  },
  {
   "cell_type": "code",
   "execution_count": null,
   "metadata": {},
   "outputs": [],
   "source": [
    "# The .head(n) command displays the first n rows of a file.\n",
    "data.head(3)"
   ]
  },
  {
   "cell_type": "code",
   "execution_count": null,
   "metadata": {},
   "outputs": [],
   "source": [
    "# The .shape command displays the (number of rows , number of columns) in a file.\n",
    "data.shape"
   ]
  },
  {
   "cell_type": "code",
   "execution_count": null,
   "metadata": {},
   "outputs": [],
   "source": [
    "# You can specify a column by dataset.columnName (e.g., two_u.E1)\n",
    "# This makes a new column called \"Adam\" and fills it with a meaningless \n",
    "# quantity (E1 + px1) for each event\n",
    "data['Adam'] = data.E1 + data.px1"
   ]
  },
  {
   "cell_type": "code",
   "execution_count": null,
   "metadata": {},
   "outputs": [],
   "source": [
    "# This makes a histogram of that totally useless calculation above\n",
    "plt.hist(data.Adam, bins=4, range=[0,100], log=False)\n",
    "plt.title(\"Title me!\")\n",
    "plt.xlabel(\"x-axis label\")\n",
    "plt.ylabel(\"pirates\");"
   ]
  },
  {
   "cell_type": "markdown",
   "metadata": {},
   "source": [
    "Here's a markdown cell, in case you wanted to add pretty, formatted text."
   ]
  },
  {
   "cell_type": "code",
   "execution_count": null,
   "metadata": {},
   "outputs": [],
   "source": [
    "# run this command to make your plots look like they're from xkcd.com\n",
    "plt.xkcd()\n",
    "# then re-execute your code to make a plot and see it xkcd-ified."
   ]
  },
  {
   "cell_type": "code",
   "execution_count": null,
   "metadata": {},
   "outputs": [],
   "source": [
    "# run this cell to make normal-looking plots again\n",
    "mpl.rcdefaults()"
   ]
  },
  {
   "cell_type": "code",
   "execution_count": null,
   "metadata": {},
   "outputs": [],
   "source": [
    "# calculates descriptive statistics\n",
    "data['Adam'].describe()"
   ]
  },
  {
   "cell_type": "code",
   "execution_count": null,
   "metadata": {},
   "outputs": [],
   "source": [
    "# Making cuts on your data (i.e., filtering your data set)\n",
    "eta_cut = data.query('eta1 > .1 & eta2 > .2')\n",
    "#type_cut = data.query('Type1 == \"G\" & Type2 == \"T\"')\n",
    "eta_cut.head()"
   ]
  },
  {
   "cell_type": "markdown",
   "metadata": {
    "collapsed": true
   },
   "source": [
    "---\n",
    "## Saving Your Work\n",
    "This is running on a Google server on a distant planet and deletes what you've done when you close this tab. To save your work for later use or analysis you have a few options:\n",
    "- File > Download .ipynb to save to your computer (and run with Jupyter software)\n",
    "- File > Download .py to save to your computer (and run with any Python software)\n",
    "- File > Print to ... um ... print.\n",
    "- Save an image to your computer of a graph or chart, right-click on it and select Save Image as ..."
   ]
  }
 ],
 "metadata": {
  "kernelspec": {
   "display_name": "Python 3",
   "language": "python",
   "name": "python3"
  },
  "language_info": {
   "codemirror_mode": {
    "name": "ipython",
    "version": 3
   },
   "file_extension": ".py",
   "mimetype": "text/x-python",
   "name": "python",
   "nbconvert_exporter": "python",
   "pygments_lexer": "ipython3",
   "version": "3.5.2"
  }
 },
 "nbformat": 4,
 "nbformat_minor": 1
}
